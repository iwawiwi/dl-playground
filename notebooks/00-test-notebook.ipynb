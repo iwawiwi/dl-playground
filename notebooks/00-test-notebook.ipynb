{
 "cells": [
  {
   "cell_type": "code",
   "execution_count": null,
   "metadata": {},
   "outputs": [],
   "source": [
    "import torch\n",
    "import pytorch_lightning as pl\n",
    "\n",
    "from typing import Any"
   ]
  },
  {
   "cell_type": "code",
   "execution_count": null,
   "metadata": {},
   "outputs": [],
   "source": [
    "# localization network\n",
    "class LocalizationNetwork(pl.LightningModule):\n",
    "    def __init__(self, *args: Any, **kwargs: Any) -> None:\n",
    "        super().__init__(*args, **kwargs)\n",
    "        self.conv1 = torch.nn.Conv2d(3, 8, kernel_size=7)\n",
    "        self.conv2 = torch.nn.Conv2d(8, 10, kernel_size=5)\n",
    "        self.fc1 = torch.nn.Linear(10 * 3 * 3, 32)\n",
    "        self.fc2 = torch.nn.Linear(32, 3 * 2)\n",
    "    \n",
    "    def forward(self, x):\n",
    "        xs = torch.nn.functional.relu(torch.nn.functional.max_pool2d(self.conv1(x), 2))\n",
    "        xs = torch.nn.functional.relu(torch.nn.functional.max_pool2d(self.conv2(xs), 2))\n",
    "        xs = xs.view(-1, 10 * 3 * 3)\n",
    "        xs = torch.nn.functional.relu(self.fc1(xs))\n",
    "        xs = self.fc2(xs)\n",
    "        return xs.view(-1, 2, 3)\n",
    "\n",
    "    # training step\n",
    "    def training_step(self, batch, batch_idx):\n",
    "        x, y = batch\n",
    "        y_hat = self(x)\n",
    "        loss = torch.nn.functional.mse_loss(y_hat, y)\n",
    "        self.log('train_loss', loss)\n",
    "        return loss\n",
    "\n",
    "    # validation step\n",
    "    def validation_step(self, batch, batch_idx):\n",
    "        x, y = batch\n",
    "        y_hat = self(x)\n",
    "        loss = torch.nn.functional.mse_loss(y_hat, y)\n",
    "        self.log('val_loss', loss)\n",
    "        return loss\n",
    "\n",
    "    # test step\n",
    "    def test_step(self, batch, batch_idx):\n",
    "        x, y = batch\n",
    "        y_hat = self(x)\n",
    "        loss = torch.nn.functional.mse_loss(y_hat, y)\n",
    "        self.log('test_loss', loss)\n",
    "        return loss\n",
    "\n",
    "    # configure optimizer\n",
    "    def configure_optimizers(self):\n",
    "        # adamw optimizer\n",
    "        optimizer = torch.optim.AdamW(self.parameters(), lr=1e-3)\n",
    "        # learning rate scheduler\n",
    "        scheduler = torch.optim.lr_scheduler.StepLR(optimizer, step_size=7, gamma=0.1)\n",
    "        return [optimizer], [scheduler]"
   ]
  },
  {
   "cell_type": "code",
   "execution_count": null,
   "metadata": {},
   "outputs": [],
   "source": [
    "# create model\n",
    "model = LocalizationNetwork()"
   ]
  },
  {
   "cell_type": "code",
   "execution_count": null,
   "metadata": {},
   "outputs": [],
   "source": [
    "# prepare random dataset for train, validation and test\n",
    "train_dataset = torch.utils.data.TensorDataset(torch.rand(100, 3, 224, 224), torch.rand(100, 2, 3))\n",
    "val_dataset = torch.utils.data.TensorDataset(torch.rand(100, 3, 224, 224), torch.rand(100, 2, 3))\n",
    "test_dataset = torch.utils.data.TensorDataset(torch.rand(100, 3, 224, 224), torch.rand(100, 2, 3))\n",
    "\n",
    "# create dataloaders\n",
    "train_dataloader = torch.utils.data.DataLoader(train_dataset, batch_size=32, shuffle=True)\n",
    "val_dataloader = torch.utils.data.DataLoader(val_dataset, batch_size=32, shuffle=False)\n",
    "test_dataloader = torch.utils.data.DataLoader(test_dataset, batch_size=32, shuffle=False)"
   ]
  },
  {
   "cell_type": "code",
   "execution_count": null,
   "metadata": {},
   "outputs": [],
   "source": [
    "# train model\n",
    "trainer = pl.Trainer(gpus=1, max_epochs=10, progress_bar_refresh_rate=20)\n",
    "trainer.fit(model, train_dataloader, val_dataloader)"
   ]
  },
  {
   "cell_type": "code",
   "execution_count": null,
   "metadata": {},
   "outputs": [],
   "source": [
    "# test model\n",
    "trainer.test(model, test_dataloaders=test_dataloader)"
   ]
  }
 ],
 "metadata": {
  "kernelspec": {
   "display_name": "Python 3.9.11 ('torchlight')",
   "language": "python",
   "name": "python3"
  },
  "language_info": {
   "codemirror_mode": {
    "name": "ipython",
    "version": 3
   },
   "file_extension": ".py",
   "mimetype": "text/x-python",
   "name": "python",
   "nbconvert_exporter": "python",
   "pygments_lexer": "ipython3",
   "version": "3.9.11"
  },
  "vscode": {
   "interpreter": {
    "hash": "581005e078be3e66b2b793246328ae85fe4ea37e6bce879f311a64f403b7afef"
   }
  }
 },
 "nbformat": 4,
 "nbformat_minor": 2
}

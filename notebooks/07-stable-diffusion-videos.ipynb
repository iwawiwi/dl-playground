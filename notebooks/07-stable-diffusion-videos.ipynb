{
 "cells": [
  {
   "cell_type": "code",
   "execution_count": null,
   "metadata": {},
   "outputs": [],
   "source": [
    "# use pretrained model\n",
    "from stable_diffusion_videos import walk"
   ]
  },
  {
   "cell_type": "code",
   "execution_count": null,
   "metadata": {},
   "outputs": [],
   "source": [
    "# run programatically\n",
    "walk(\n",
    "    prompts=[\"two cats\", \"two dogs\"],       # prompts to the model\n",
    "    seeds=[42, 43],                         # random seed value\n",
    "    output_dir=\"D:/Research/dreams\",        # where images/videos will be saved\n",
    "    name=\"animal\",                          # sub-directory of `output_dir` where images/videos will be saved\n",
    "    guidance_scale=8.5,                     # higher adheres to prompt more, lower lets model take the wheel\n",
    "    num_steps=60,                           # number of steps to take, change to 60-200 for better results...3-5 for testing\n",
    "    num_inference_steps=50,                 # number of inference steps to take\n",
    "    scheduler=\"klms\",                       # \"klms\" or \"default\" or \"ddim\"\n",
    "    disable_tqdm=False,                     # set True to disable progress bar\n",
    "    make_video=True,                        # set False to disable video creation, just save images\n",
    "    use_lerp_for_text=True,                 # set True for using lerp for text embedding instead of slerp\n",
    "    do_loop=False,                          # set True if you want last prompt to loop back to first prompt\n",
    ")"
   ]
  },
  {
   "cell_type": "code",
   "execution_count": null,
   "metadata": {},
   "outputs": [],
   "source": [
    "# run programatically\n",
    "walk(\n",
    "    prompts=[\"real life\", \"fantasy\", \"landslide\", \"escape\", \"reality\"],\n",
    "    seeds=[42, 43, 44, 45, 46],                         \n",
    "    output_dir=\"D:/Research/dreams\",        \n",
    "    name=\"rhapsody\",                          \n",
    "    guidance_scale=8.5,                     \n",
    "    num_steps=60,                           \n",
    "    num_inference_steps=50,                 \n",
    "    scheduler=\"klms\",                       \n",
    "    disable_tqdm=False,                     \n",
    "    make_video=True,                        \n",
    "    use_lerp_for_text=True,                 \n",
    "    do_loop=False,                          \n",
    ")"
   ]
  },
  {
   "cell_type": "code",
   "execution_count": null,
   "metadata": {},
   "outputs": [],
   "source": [
    "# run programatically\n",
    "walk(\n",
    "    prompts=[\"Is this the real life?\", \"Is this just fantasy?\", \"Caught in a landslide\", \"no escape from reality\"],\n",
    "    seeds=[42, 43, 44, 45],                         \n",
    "    output_dir=\"D:/Research/dreams\",        \n",
    "    name=\"rhapsody_2\",                          \n",
    "    guidance_scale=8.5,                     \n",
    "    num_steps=60,                           \n",
    "    num_inference_steps=50,                 \n",
    "    scheduler=\"klms\",                       \n",
    "    disable_tqdm=False,                     \n",
    "    make_video=True,                        \n",
    "    use_lerp_for_text=True,                 \n",
    "    do_loop=False,                          \n",
    ")"
   ]
  }
 ],
 "metadata": {
  "kernelspec": {
   "display_name": "Python 3.8.13 ('testing')",
   "language": "python",
   "name": "python3"
  },
  "language_info": {
   "codemirror_mode": {
    "name": "ipython",
    "version": 3
   },
   "file_extension": ".py",
   "mimetype": "text/x-python",
   "name": "python",
   "nbconvert_exporter": "python",
   "pygments_lexer": "ipython3",
   "version": "3.8.13"
  },
  "vscode": {
   "interpreter": {
    "hash": "bc992aa5ee055066d3ad24a682c2e6a3b09b567b8c7672d95efcf94e5adb3c01"
   }
  }
 },
 "nbformat": 4,
 "nbformat_minor": 2
}

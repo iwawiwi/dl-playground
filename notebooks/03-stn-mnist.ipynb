{
 "cells": [
  {
   "cell_type": "markdown",
   "metadata": {},
   "source": [
    "Spatial Transformer Network\n",
    "\n",
    "For: data augmentation"
   ]
  },
  {
   "cell_type": "code",
   "execution_count": null,
   "metadata": {},
   "outputs": [],
   "source": [
    "import torch\n",
    "import torchvision\n",
    "from torch import nn\n",
    "from torch.nn import functional as F\n",
    "\n",
    "import matplotlib.pyplot as plt"
   ]
  },
  {
   "cell_type": "markdown",
   "metadata": {},
   "source": [
    "STN components"
   ]
  },
  {
   "cell_type": "code",
   "execution_count": null,
   "metadata": {},
   "outputs": [],
   "source": [
    "# convolutional components\n",
    "net_conv1 = nn.Conv2d(1, 10, kernel_size=5)\n",
    "net_conv2 = nn.Conv2d(10, 20, kernel_size=5)\n",
    "net_conv_drop = nn.Dropout2d()\n",
    "net_fc1 = nn.Linear(320, 50)\n",
    "net_fc2 = nn.Linear(50, 10)"
   ]
  },
  {
   "cell_type": "code",
   "execution_count": null,
   "metadata": {},
   "outputs": [],
   "source": [
    "# spatial transformer localization components\n",
    "net_localization = nn.Sequential(\n",
    "    nn.Conv2d(1, 8, kernel_size=7),\n",
    "    nn.MaxPool2d(2, stride=2),\n",
    "    nn.ReLU(True),\n",
    "    nn.Conv2d(8, 10, kernel_size=5),\n",
    "    nn.MaxPool2d(2, stride=2),\n",
    "    nn.ReLU(True)\n",
    ")\n",
    "\n",
    "# regressor for 3x2 affine matrix\n",
    "net_fc_loc = nn.Sequential(\n",
    "    nn.Linear(10 * 3 * 3, 32),\n",
    "    nn.ReLU(True),\n",
    "    nn.Linear(32, 3 * 2)\n",
    ")"
   ]
  },
  {
   "cell_type": "markdown",
   "metadata": {},
   "source": [
    "Initialize weights"
   ]
  },
  {
   "cell_type": "code",
   "execution_count": null,
   "metadata": {},
   "outputs": [],
   "source": [
    "net_fc_loc[2].weight.data.zero_()\n",
    "net_fc_loc[2].bias.data.copy_(torch.tensor([1, 0, 0, 0, 1, 0], dtype=torch.float))"
   ]
  },
  {
   "cell_type": "markdown",
   "metadata": {},
   "source": [
    "Prepare MNIST dataset"
   ]
  },
  {
   "cell_type": "code",
   "execution_count": null,
   "metadata": {},
   "outputs": [],
   "source": [
    "BATCH_SIZE = 1"
   ]
  },
  {
   "cell_type": "code",
   "execution_count": null,
   "metadata": {},
   "outputs": [],
   "source": [
    "# train loader\n",
    "train_loader = torch.utils.data.DataLoader(\n",
    "    torchvision.datasets.MNIST(\n",
    "        '../data', train=True, download=True,\n",
    "        transform=torchvision.transforms.Compose([\n",
    "            torchvision.transforms.ToTensor(),\n",
    "            torchvision.transforms.Normalize((0.1307,), (0.3081,))\n",
    "        ]),\n",
    "    ),\n",
    "    batch_size=BATCH_SIZE, shuffle=True,  \n",
    ")\n",
    "\n",
    "# test loader\n",
    "test_loader = torch.utils.data.DataLoader(\n",
    "    torchvision.datasets.MNIST(\n",
    "        '../data', train=False, download=True,\n",
    "        transform=torchvision.transforms.Compose([\n",
    "            torchvision.transforms.ToTensor(),\n",
    "            torchvision.transforms.Normalize((0.1307,), (0.3081,))\n",
    "        ]),\n",
    "    ),\n",
    "    batch_size=BATCH_SIZE, shuffle=True,\n",
    ")"
   ]
  },
  {
   "cell_type": "markdown",
   "metadata": {},
   "source": [
    "Sample one batch from dataloader"
   ]
  },
  {
   "cell_type": "code",
   "execution_count": null,
   "metadata": {},
   "outputs": [],
   "source": [
    "sample_batch = next(iter(train_loader))\n",
    "print(sample_batch[0].shape)"
   ]
  },
  {
   "cell_type": "code",
   "execution_count": null,
   "metadata": {},
   "outputs": [],
   "source": [
    "# show sample image\n",
    "plt.imshow(sample_batch[0][0].numpy().squeeze(), cmap='gray')"
   ]
  },
  {
   "cell_type": "markdown",
   "metadata": {},
   "source": [
    "STN forward propagation"
   ]
  },
  {
   "cell_type": "code",
   "execution_count": null,
   "metadata": {},
   "outputs": [],
   "source": [
    "img = sample_batch[0]\n",
    "print(img.shape)"
   ]
  },
  {
   "cell_type": "code",
   "execution_count": null,
   "metadata": {},
   "outputs": [],
   "source": [
    "xs = net_localization(img)\n",
    "print(xs.shape)"
   ]
  },
  {
   "cell_type": "code",
   "execution_count": null,
   "metadata": {},
   "outputs": [],
   "source": [
    "# make image grid composed from 10 channel of 3 x 3 grayscale images\n",
    "for i in range(10):\n",
    "    plt.subplot(2, 5, i + 1)\n",
    "    plt.imshow(xs[0, i, :, :].detach().numpy().squeeze(), cmap='gray')\n",
    "plt.show()"
   ]
  },
  {
   "cell_type": "code",
   "execution_count": null,
   "metadata": {},
   "outputs": [],
   "source": [
    "# flatten\n",
    "xs = xs.view(-1, 10 * 3 * 3)\n",
    "print(xs.shape)\n",
    "\n",
    "theta = net_fc_loc(xs)\n",
    "print(theta.shape)\n",
    "\n",
    "theta = theta.view(-1, 2, 3)\n",
    "print(theta.shape)"
   ]
  },
  {
   "cell_type": "code",
   "execution_count": null,
   "metadata": {},
   "outputs": [],
   "source": [
    "# visualize theta\n",
    "plt.imshow(theta.detach().numpy().squeeze(), cmap='gray')"
   ]
  },
  {
   "cell_type": "code",
   "execution_count": null,
   "metadata": {},
   "outputs": [],
   "source": [
    "grid = F.affine_grid(theta, img.size(), align_corners=True)\n",
    "img_affine = F.grid_sample(img, grid, align_corners=True)\n",
    "print(img_affine.shape)"
   ]
  },
  {
   "cell_type": "code",
   "execution_count": null,
   "metadata": {},
   "outputs": [],
   "source": [
    "# show image\n",
    "plt.imshow(img_affine.detach().numpy().squeeze(), cmap='gray')"
   ]
  }
 ],
 "metadata": {
  "interpreter": {
   "hash": "581005e078be3e66b2b793246328ae85fe4ea37e6bce879f311a64f403b7afef"
  },
  "kernelspec": {
   "display_name": "Python 3.9.11 ('torchlight')",
   "language": "python",
   "name": "python3"
  },
  "language_info": {
   "codemirror_mode": {
    "name": "ipython",
    "version": 3
   },
   "file_extension": ".py",
   "mimetype": "text/x-python",
   "name": "python",
   "nbconvert_exporter": "python",
   "pygments_lexer": "ipython3",
   "version": "3.9.11"
  }
 },
 "nbformat": 4,
 "nbformat_minor": 2
}
